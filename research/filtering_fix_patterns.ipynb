{
 "cells": [
  {
   "cell_type": "code",
   "execution_count": 16,
   "metadata": {},
   "outputs": [],
   "source": [
    "import numpy as np\n",
    "import pandas as pd\n",
    "import git\n",
    "import os\n",
    "import re\n",
    "\n",
    "from tqdm import tqdm\n",
    "\n",
    "DATA_PATH = 'data'"
   ]
  },
  {
   "cell_type": "code",
   "execution_count": 17,
   "metadata": {
    "scrolled": true
   },
   "outputs": [
    {
     "data": {
      "text/html": [
       "<div>\n",
       "<style scoped>\n",
       "    .dataframe tbody tr th:only-of-type {\n",
       "        vertical-align: middle;\n",
       "    }\n",
       "\n",
       "    .dataframe tbody tr th {\n",
       "        vertical-align: top;\n",
       "    }\n",
       "\n",
       "    .dataframe thead th {\n",
       "        text-align: right;\n",
       "    }\n",
       "</style>\n",
       "<table border=\"1\" class=\"dataframe\">\n",
       "  <thead>\n",
       "    <tr style=\"text-align: right;\">\n",
       "      <th></th>\n",
       "      <th>Pattern size</th>\n",
       "      <th>Pattern ID</th>\n",
       "      <th>Pattern frequency</th>\n",
       "      <th>Pattern repos</th>\n",
       "      <th>Pattern commits</th>\n",
       "      <th>Sample ID</th>\n",
       "      <th>Repository</th>\n",
       "      <th>Commit hash</th>\n",
       "      <th>Datetime</th>\n",
       "    </tr>\n",
       "  </thead>\n",
       "  <tbody>\n",
       "    <tr>\n",
       "      <th>0</th>\n",
       "      <td>36</td>\n",
       "      <td>2668</td>\n",
       "      <td>3</td>\n",
       "      <td>1</td>\n",
       "      <td>1</td>\n",
       "      <td>23314597</td>\n",
       "      <td>https://github.com/deepmipt/DeepPavlov.git</td>\n",
       "      <td>0601468959e72806a2e55dfdb015c90d0d2926b5</td>\n",
       "      <td>07.08.2018 22:28:46</td>\n",
       "    </tr>\n",
       "    <tr>\n",
       "      <th>1</th>\n",
       "      <td>36</td>\n",
       "      <td>2668</td>\n",
       "      <td>3</td>\n",
       "      <td>1</td>\n",
       "      <td>1</td>\n",
       "      <td>23314595</td>\n",
       "      <td>https://github.com/deepmipt/DeepPavlov.git</td>\n",
       "      <td>0601468959e72806a2e55dfdb015c90d0d2926b5</td>\n",
       "      <td>07.08.2018 22:28:46</td>\n",
       "    </tr>\n",
       "    <tr>\n",
       "      <th>2</th>\n",
       "      <td>36</td>\n",
       "      <td>2668</td>\n",
       "      <td>3</td>\n",
       "      <td>1</td>\n",
       "      <td>1</td>\n",
       "      <td>23314596</td>\n",
       "      <td>https://github.com/deepmipt/DeepPavlov.git</td>\n",
       "      <td>0601468959e72806a2e55dfdb015c90d0d2926b5</td>\n",
       "      <td>07.08.2018 22:28:46</td>\n",
       "    </tr>\n",
       "    <tr>\n",
       "      <th>3</th>\n",
       "      <td>36</td>\n",
       "      <td>271</td>\n",
       "      <td>3</td>\n",
       "      <td>1</td>\n",
       "      <td>1</td>\n",
       "      <td>4228010</td>\n",
       "      <td>https://github.com/OpenMined/PySyft.git</td>\n",
       "      <td>641e3fe14ff5b3d94b88929079fc5a3b8f2df8d1</td>\n",
       "      <td>25.04.2019 12:38:10</td>\n",
       "    </tr>\n",
       "    <tr>\n",
       "      <th>4</th>\n",
       "      <td>36</td>\n",
       "      <td>271</td>\n",
       "      <td>3</td>\n",
       "      <td>1</td>\n",
       "      <td>1</td>\n",
       "      <td>4228007</td>\n",
       "      <td>https://github.com/OpenMined/PySyft.git</td>\n",
       "      <td>641e3fe14ff5b3d94b88929079fc5a3b8f2df8d1</td>\n",
       "      <td>25.04.2019 12:38:10</td>\n",
       "    </tr>\n",
       "  </tbody>\n",
       "</table>\n",
       "</div>"
      ],
      "text/plain": [
       "   Pattern size  Pattern ID  Pattern frequency  Pattern repos  \\\n",
       "0            36        2668                  3              1   \n",
       "1            36        2668                  3              1   \n",
       "2            36        2668                  3              1   \n",
       "3            36         271                  3              1   \n",
       "4            36         271                  3              1   \n",
       "\n",
       "   Pattern commits  Sample ID                                  Repository  \\\n",
       "0                1   23314597  https://github.com/deepmipt/DeepPavlov.git   \n",
       "1                1   23314595  https://github.com/deepmipt/DeepPavlov.git   \n",
       "2                1   23314596  https://github.com/deepmipt/DeepPavlov.git   \n",
       "3                1    4228010     https://github.com/OpenMined/PySyft.git   \n",
       "4                1    4228007     https://github.com/OpenMined/PySyft.git   \n",
       "\n",
       "                                Commit hash             Datetime  \n",
       "0  0601468959e72806a2e55dfdb015c90d0d2926b5  07.08.2018 22:28:46  \n",
       "1  0601468959e72806a2e55dfdb015c90d0d2926b5  07.08.2018 22:28:46  \n",
       "2  0601468959e72806a2e55dfdb015c90d0d2926b5  07.08.2018 22:28:46  \n",
       "3  641e3fe14ff5b3d94b88929079fc5a3b8f2df8d1  25.04.2019 12:38:10  \n",
       "4  641e3fe14ff5b3d94b88929079fc5a3b8f2df8d1  25.04.2019 12:38:10  "
      ]
     },
     "execution_count": 17,
     "metadata": {},
     "output_type": "execute_result"
    }
   ],
   "source": [
    "patterns_df = pd.read_csv(os.path.join(DATA_PATH, 'patterns.csv'))\n",
    "patterns_df.head()"
   ]
  },
  {
   "cell_type": "code",
   "execution_count": 18,
   "metadata": {
    "scrolled": false
   },
   "outputs": [
    {
     "data": {
      "text/plain": [
       "https://github.com/sagemath/sage.git                         2239\n",
       "https://github.com/biolab/orange3.git                        1896\n",
       "https://github.com/scikit-learn/scikit-learn.git             1420\n",
       "https://github.com/matplotlib/matplotlib.git                 1409\n",
       "https://github.com/quodlibet/quodlibet.git                   1167\n",
       "                                                             ... \n",
       "https://github.com/clips/pattern.git                           10\n",
       "https://github.com/MechanicalSoup/MechanicalSoup.git            9\n",
       "https://github.com/alfredfrancis/ai-chatbot-framework.git       8\n",
       "https://github.com/fredrik-johansson/mpmath.git                 1\n",
       "https://github.com/pydata/numexpr.git                           1\n",
       "Name: Repository, Length: 87, dtype: int64"
      ]
     },
     "execution_count": 18,
     "metadata": {},
     "output_type": "execute_result"
    }
   ],
   "source": [
    "repo_urls = list(patterns_df['Repository'].unique())\n",
    "patterns_df['Repository'].value_counts()"
   ]
  },
  {
   "cell_type": "code",
   "execution_count": null,
   "metadata": {},
   "outputs": [],
   "source": [
    "%%time\n",
    "\n",
    "FIX_MSG_PATTERN = r'fix|error|bug|issue|mistake|incorrect|fault|defect|flaw'\n",
    "\n",
    "def check_if_bugfix(row):\n",
    "    msg = commit_msg_by_hash.get(row['Commit hash'], None)\n",
    "    return msg is not None and re.search(FIX_MSG_PATTERN, msg, re.IGNORECASE) is not None\n",
    "\n",
    "fixes_dfs = []\n",
    "\n",
    "for url in tqdm(repo_urls):\n",
    "    repo_name = url.rpartition('/')[2][:-4]\n",
    "    try:\n",
    "        repo = git.Repo(os.path.join(DATA_PATH, 'repos', repo_name))\n",
    "        print(f'Repository \"{repo_name}\" succesfully opened')\n",
    "    except Exception:\n",
    "        repo = git.Repo.clone_from(url, os.path.join(DATA_PATH, 'repos', repo_name))\n",
    "        print(f'Repository \"{repo_name}\" succesfully cloned')\n",
    "    \n",
    "    commit_msg_by_hash = {}\n",
    "    for commit in repo.iter_commits():\n",
    "        commit_msg_by_hash[commit.binsha.hex()] = commit.message\n",
    "    print(f'Messages by commit hash extracted')\n",
    "    \n",
    "    current_df = patterns_df[patterns_df['Repository'] == url]\n",
    "    current_fixes_df = current_df[current_df.apply(check_if_bugfix, axis=1)]\n",
    "    fixes_dfs.append(current_fixes_df)\n",
    "    \n",
    "fixes_df = pd.concat(fixes_dfs)\n",
    "fixes_df.to_csv(os.path.join(DATA_PATH, 'fix_patterns.csv'))"
   ]
  },
  {
   "cell_type": "markdown",
   "metadata": {},
   "source": [
    "### Postprocessing\n"
   ]
  },
  {
   "cell_type": "code",
   "execution_count": 51,
   "metadata": {},
   "outputs": [
    {
     "data": {
      "text/plain": [
       "((7960, 9), (28481, 9))"
      ]
     },
     "execution_count": 51,
     "metadata": {},
     "output_type": "execute_result"
    }
   ],
   "source": [
    "fix_patterns_df = pd.read_csv(os.path.join(DATA_PATH, 'fix_patterns.csv'), index_col=0)\n",
    "fix_patterns_df.shape, patterns_df.shape"
   ]
  },
  {
   "cell_type": "code",
   "execution_count": 52,
   "metadata": {},
   "outputs": [
    {
     "name": "stderr",
     "output_type": "stream",
     "text": [
      "  0%|          | 0/5690 [00:00<?, ?it/s]C:\\Miniconda3\\envs\\bug-fixes\\lib\\site-packages\\ipykernel_launcher.py:6: UserWarning: Boolean Series key will be reindexed to match DataFrame index.\n",
      "  \n",
      "100%|██████████| 5690/5690 [00:14<00:00, 403.12it/s]\n"
     ]
    }
   ],
   "source": [
    "pids = patterns_df['Pattern ID'].unique()\n",
    "total_fix_pids = []\n",
    "\n",
    "for pid in tqdm(pids):\n",
    "    all_cnt = patterns_df[patterns_df['Pattern ID'] == pid].shape[0]\n",
    "    fix_cnt = fix_patterns_df[patterns_df['Pattern ID'] == pid].shape[0]\n",
    "    if all_cnt == fix_cnt:\n",
    "        total_fix_pids.append(pid)"
   ]
  },
  {
   "cell_type": "code",
   "execution_count": 64,
   "metadata": {},
   "outputs": [],
   "source": [
    "total_fix_patterns_df = fix_patterns_df[fix_patterns_df['Pattern ID'].isin(set(total_fix_pids))]\n",
    "total_fix_patterns_df.to_csv(os.path.join(DATA_PATH, 'absolute_fix_patterns.csv'))"
   ]
  },
  {
   "cell_type": "code",
   "execution_count": 65,
   "metadata": {},
   "outputs": [
    {
     "data": {
      "text/plain": [
       "(5690, 2046, 1248)"
      ]
     },
     "execution_count": 65,
     "metadata": {},
     "output_type": "execute_result"
    }
   ],
   "source": [
    "patterns_df['Pattern ID'].nunique(), fix_patterns_df['Pattern ID'].nunique(), total_fix_patterns_df['Pattern ID'].nunique()"
   ]
  },
  {
   "cell_type": "code",
   "execution_count": null,
   "metadata": {},
   "outputs": [],
   "source": []
  }
 ],
 "metadata": {
  "kernelspec": {
   "display_name": "Python 3",
   "language": "python",
   "name": "python3"
  },
  "language_info": {
   "codemirror_mode": {
    "name": "ipython",
    "version": 3
   },
   "file_extension": ".py",
   "mimetype": "text/x-python",
   "name": "python",
   "nbconvert_exporter": "python",
   "pygments_lexer": "ipython3",
   "version": "3.8.3"
  }
 },
 "nbformat": 4,
 "nbformat_minor": 4
}
