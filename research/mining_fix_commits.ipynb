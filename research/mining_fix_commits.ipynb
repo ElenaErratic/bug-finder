{
 "cells": [
  {
   "cell_type": "code",
   "execution_count": 10,
   "metadata": {},
   "outputs": [],
   "source": [
    "import ast\n",
    "import re\n",
    "import json\n",
    "import tqdm\n",
    "import pickle\n",
    "\n",
    "from pathlib import Path\n",
    "from datetime import datetime\n",
    "from pydriller import RepositoryMining\n",
    "\n",
    "\n",
    "GIT_REPO_PATH = 'data/django/'\n",
    "DATA_PATH = 'data/'\n",
    "SINCE_DATETIME = datetime(2020, 7, 7, 0, 0, 0)\n",
    "TO_DATETIME = datetime(2020, 7, 8, 0, 0, 0)\n",
    "\n",
    "FIX_MSG_PATTERN = r'fix|error|bug|issue|mistake|incorrect|fault|defect|flaw|type'\n",
    "\n",
    "# total_django_comits = 28542\n",
    "# fix_django_commits  = 18820"
   ]
  },
  {
   "cell_type": "code",
   "execution_count": 5,
   "metadata": {},
   "outputs": [],
   "source": [
    "class CodeChange():\n",
    "    def __init__(self, commit_hash, source_code_before, source_code_after, git_diff):\n",
    "        self.commit_hash = commit_hash\n",
    "        self.before = source_code_before\n",
    "        self.after = source_code_after\n",
    "        self.git_diff = git_diff"
   ]
  },
  {
   "cell_type": "code",
   "execution_count": 7,
   "metadata": {},
   "outputs": [
    {
     "name": "stderr",
     "output_type": "stream",
     "text": [
      "28542it [14:25, 32.97it/s]\n"
     ]
    },
    {
     "name": "stdout",
     "output_type": "stream",
     "text": [
      "Wall time: 14min 26s\n"
     ]
    }
   ],
   "source": [
    "%%time\n",
    "repo = RepositoryMining(GIT_REPO_PATH)\n",
    "changes = []\n",
    "\n",
    "for commit in tqdm.tqdm(repo.traverse_commits()):\n",
    "    if re.search(FIX_MSG_PATTERN, commit.msg, re.IGNORECASE):\n",
    "        modifications = commit.modifications\n",
    "        for mod in modifications:\n",
    "            if (mod.filename.endswith('.py')):\n",
    "                code_change = CodeChange(commit.hash, \n",
    "                                         mod.source_code_before, \n",
    "                                         mod.source_code, \n",
    "                                         mod.diff_parsed)\n",
    "                changes.append(code_change)"
   ]
  },
  {
   "cell_type": "code",
   "execution_count": 8,
   "metadata": {},
   "outputs": [
    {
     "data": {
      "text/plain": [
       "41185"
      ]
     },
     "execution_count": 8,
     "metadata": {},
     "output_type": "execute_result"
    }
   ],
   "source": [
    "len(changes)"
   ]
  },
  {
   "cell_type": "code",
   "execution_count": 11,
   "metadata": {},
   "outputs": [],
   "source": [
    "with open('data/django-fixes.pickle', 'wb') as handle:\n",
    "    pickle.dump(changes, handle, protocol=pickle.HIGHEST_PROTOCOL)"
   ]
  },
  {
   "cell_type": "code",
   "execution_count": null,
   "metadata": {},
   "outputs": [],
   "source": []
  }
 ],
 "metadata": {
  "kernelspec": {
   "display_name": "Python 3",
   "language": "python",
   "name": "python3"
  },
  "language_info": {
   "codemirror_mode": {
    "name": "ipython",
    "version": 3
   },
   "file_extension": ".py",
   "mimetype": "text/x-python",
   "name": "python",
   "nbconvert_exporter": "python",
   "pygments_lexer": "ipython3",
   "version": "3.7.7"
  }
 },
 "nbformat": 4,
 "nbformat_minor": 4
}
